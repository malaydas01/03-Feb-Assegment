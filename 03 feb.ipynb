{
 "cells": [
  {
   "cell_type": "code",
   "execution_count": null,
   "id": "6fcd3d43-6871-4bec-a2f7-e6b51c0bcf38",
   "metadata": {},
   "outputs": [],
   "source": [
    "01. Which keyword is used to create a function? Create a function to return a list of odd numbers in the\n",
    "range of 1 to 25."
   ]
  },
  {
   "cell_type": "code",
   "execution_count": 12,
   "id": "e29ead5c-83d8-4e44-97e7-8efb4c2ecd03",
   "metadata": {},
   "outputs": [
    {
     "name": "stdout",
     "output_type": "stream",
     "text": [
      "[1, 3, 5, 7, 9, 11, 13, 15, 17, 19, 21, 23, 25]\n"
     ]
    }
   ],
   "source": [
    "# The keyword used to create a function in Python is \"def\"\n",
    "\n",
    "def get_odd_numbers():\n",
    "    odd_numbers = []\n",
    "    for num in range(1, 26):\n",
    "        if num % 2 != 0:\n",
    "            odd_numbers.append(num)\n",
    "    return odd_numbers\n",
    "\n",
    "# Calling the function\n",
    "print(get_odd_numbers())\n"
   ]
  },
  {
   "cell_type": "code",
   "execution_count": null,
   "id": "fef6dd89-9bdd-47a3-b097-03abb6d5d8ff",
   "metadata": {},
   "outputs": [],
   "source": [
    "02. Why *args and **kwargs is used in some functions? Create a function each for *args and **kwargs\n",
    "to demonstrate their use."
   ]
  },
  {
   "cell_type": "code",
   "execution_count": null,
   "id": "fffae1a7-d51e-4770-ad47-b3725f8a6874",
   "metadata": {},
   "outputs": [],
   "source": [
    "In Python, *args and **kwargs are used to pass a variable number of arguments to a function.\n",
    "\n",
    "*args is used to pass a variable number of positional arguments to a function. The arguments are passed as a tuple and can be accessed using the index of the tuple.\n",
    "\n",
    "**kwargs is used to pass a variable number of keyword arguments to a function. The arguments are passed as a dictionary and can be accessed using the key-value pairs.\n",
    "\n",
    "Here are example functions that demonstrate the use of *args and **kwargs:"
   ]
  },
  {
   "cell_type": "code",
   "execution_count": 13,
   "id": "d432bed6-42b4-4e57-b8d5-c8c69c858b83",
   "metadata": {},
   "outputs": [
    {
     "name": "stdout",
     "output_type": "stream",
     "text": [
      "6\n",
      "100\n",
      "Name: John\n",
      "Age: 30\n",
      "Country: USA\n"
     ]
    }
   ],
   "source": [
    "# Example function using *args\n",
    "def sum_numbers(*args):\n",
    "    total = 0\n",
    "    for num in args:\n",
    "        total += num\n",
    "    return total\n",
    "\n",
    "# Calling the function with multiple arguments\n",
    "print(sum_numbers(1, 2, 3))   # Output: 6\n",
    "print(sum_numbers(10, 20, 30, 40))   # Output: 100\n",
    "\n",
    "\n",
    "# Example function using **kwargs\n",
    "def print_person_details(**kwargs):\n",
    "    print(f\"Name: {kwargs['name']}\")\n",
    "    print(f\"Age: {kwargs['age']}\")\n",
    "    print(f\"Country: {kwargs['country']}\")\n",
    "\n",
    "# Calling the function with keyword arguments\n",
    "print_person_details(name=\"John\", age=30, country=\"USA\")\n",
    "\n",
    "# Output:\n",
    "# Name: John\n",
    "# Age: 30\n",
    "# Country: USA\n"
   ]
  },
  {
   "cell_type": "code",
   "execution_count": null,
   "id": "93b1072a-4ace-4cdf-b91f-2459cc1fa743",
   "metadata": {},
   "outputs": [],
   "source": [
    "03.What is an iterator in python? Name the method used to initialise the iterator object and the method\n",
    "used for iteration. Use these methods to print the first five elements of the given list [2, 4, 6, 8, 10, 12, 14,\n",
    "16, 18, 20]."
   ]
  },
  {
   "cell_type": "code",
   "execution_count": null,
   "id": "d82355b8-4707-4e9d-8cdf-3c6561c97406",
   "metadata": {},
   "outputs": [],
   "source": [
    "In Python, an iterator is an object that allows us to traverse through the elements of a collection, one at a time, without needing to know the underlying implementation details of the collection.\n",
    "\n",
    "To create an iterator object, we can use the \"iter()\"  method, which takes an iterable object as an argument and returns an iterator object."
   ]
  },
  {
   "cell_type": "code",
   "execution_count": 14,
   "id": "2dbf2b57-b77b-4e45-adc9-06dfbe42b1c4",
   "metadata": {},
   "outputs": [
    {
     "name": "stdout",
     "output_type": "stream",
     "text": [
      "2\n",
      "4\n",
      "6\n",
      "8\n",
      "10\n"
     ]
    }
   ],
   "source": [
    "list = [2, 4, 6, 8, 10, 12, 14, 16, 18, 20]\n",
    "\n",
    "# Create an iterator object\n",
    "it = iter(list)\n",
    "\n",
    "# Iterate through the first five elements and print them\n",
    "for i in range(5):\n",
    "    print(next(it))\n"
   ]
  },
  {
   "cell_type": "code",
   "execution_count": null,
   "id": "18c8e5b7-c19a-4dc2-a6a4-540866fe5d2b",
   "metadata": {},
   "outputs": [],
   "source": [
    "04. What is a generator function in python? Why yield keyword is used? Give an example of a generator\n",
    "function."
   ]
  },
  {
   "cell_type": "code",
   "execution_count": null,
   "id": "fd2eda36-ee30-4ab7-95d9-d7c1161c8f7a",
   "metadata": {},
   "outputs": [],
   "source": [
    "A generator function in Python is a special type of function that generates a sequence of values using the yield keyword. Instead of returning a value and terminating like a regular function, a generator function can pause its execution and resume again later, allowing it to generate a series of values on-the-fly without needing to create an entire list in memory. This makes it useful for generating large sequences of data, especially when the sequence is too large to fit in memory all at once."
   ]
  },
  {
   "cell_type": "code",
   "execution_count": 15,
   "id": "3b9aca4d-5aa1-4b7d-9873-509220969543",
   "metadata": {},
   "outputs": [
    {
     "name": "stdout",
     "output_type": "stream",
     "text": [
      "0\n",
      "1\n",
      "1\n",
      "2\n",
      "3\n",
      "5\n",
      "8\n",
      "13\n",
      "21\n",
      "34\n"
     ]
    }
   ],
   "source": [
    "#Here's an example of a generator function that generates a sequence of Fibonacci numbers\n",
    "\n",
    "def fibonacci():\n",
    "    # initialize the first two values\n",
    "    a, b = 0, 1\n",
    "    while True:\n",
    "        yield a  # return the current value\n",
    "        a, b = b, a + b  # calculate the next value\n",
    "\n",
    "# create a generator object\n",
    "fib = fibonacci()\n",
    "\n",
    "# iterate over the first 10 values\n",
    "for i in range(10):\n",
    "    print(next(fib))\n",
    "\n"
   ]
  },
  {
   "cell_type": "code",
   "execution_count": null,
   "id": "1b790e56-a3a3-4877-906d-3d824d72aa9f",
   "metadata": {},
   "outputs": [],
   "source": [
    "05.Create a generator function for prime numbers less than 1000. Use the next() method to print the\n",
    "first 20 prime numbers."
   ]
  },
  {
   "cell_type": "code",
   "execution_count": 5,
   "id": "bf94144f-6614-4da0-9d76-9af37934da03",
   "metadata": {},
   "outputs": [],
   "source": [
    "def primes():\n",
    "    \n",
    "    primes = [2]\n",
    "    \n",
    "    num = 3\n",
    "    \n",
    "    while num < 1000:\n",
    "        \n",
    "        for prime in primes:\n",
    "            \n",
    "            if num % prime == 0:\n",
    "                break\n",
    "        else:\n",
    "            \n",
    "            primes.append(num)\n",
    "            yield num\n",
    "        \n",
    "        num += 2\n"
   ]
  },
  {
   "cell_type": "code",
   "execution_count": 6,
   "id": "d8aeecd3-f951-400c-b0c1-c51b5925c768",
   "metadata": {},
   "outputs": [
    {
     "name": "stdout",
     "output_type": "stream",
     "text": [
      "3\n",
      "5\n",
      "7\n",
      "11\n",
      "13\n",
      "17\n",
      "19\n",
      "23\n",
      "29\n",
      "31\n",
      "37\n",
      "41\n",
      "43\n",
      "47\n",
      "53\n",
      "59\n",
      "61\n",
      "67\n",
      "71\n",
      "73\n"
     ]
    }
   ],
   "source": [
    "# Create a generator object\n",
    "prime_gen = primes()\n",
    "# Print the first 20 prime numbers\n",
    "for i in range(20):\n",
    "    print(next(prime_gen))\n"
   ]
  },
  {
   "cell_type": "code",
   "execution_count": null,
   "id": "912c8e4f-bafb-4cba-b25e-f5998e03f410",
   "metadata": {},
   "outputs": [],
   "source": [
    "06.Write a python program to print the first 10 Fibonacci numbers using a while loop."
   ]
  },
  {
   "cell_type": "code",
   "execution_count": 8,
   "id": "e2e3f6e7-a3ba-4d18-923f-23fa2997af42",
   "metadata": {},
   "outputs": [
    {
     "name": "stdout",
     "output_type": "stream",
     "text": [
      "0\n",
      "1\n",
      "1\n",
      "2\n",
      "3\n",
      "5\n",
      "8\n",
      "13\n",
      "21\n",
      "34\n"
     ]
    }
   ],
   "source": [
    "a, b = 0, 1\n",
    "count = 0\n",
    "while count < 10:\n",
    "    print(a)\n",
    "    c = a + b\n",
    "    a = b\n",
    "    b = c\n",
    "    count += 1\n"
   ]
  },
  {
   "cell_type": "code",
   "execution_count": null,
   "id": "c3418bde-5fc9-4687-8944-6656def86f13",
   "metadata": {},
   "outputs": [],
   "source": [
    "07.Write a List Comprehension to iterate through the given string: ‘pwskills’.\n",
    "Expected output: ['p', 'w', 's', 'k', 'i', 'l', 'l', 's']"
   ]
  },
  {
   "cell_type": "code",
   "execution_count": 9,
   "id": "c5b1308a-7c3d-4677-a6fd-19e6e8f1d7f9",
   "metadata": {},
   "outputs": [
    {
     "name": "stdout",
     "output_type": "stream",
     "text": [
      "['p', 'w', 's', 'k', 'i', 'l', 'l', 's']\n"
     ]
    }
   ],
   "source": [
    "my_string = 'pwskills'\n",
    "result = [char for char in my_string if char in 'pwskills']\n",
    "print(result)\n"
   ]
  },
  {
   "cell_type": "code",
   "execution_count": null,
   "id": "061db9a0-2bf4-423b-88df-76078d337e9d",
   "metadata": {},
   "outputs": [],
   "source": [
    "08.Write a python program to check whether a given number is Palindrome or not using a while loop."
   ]
  },
  {
   "cell_type": "code",
   "execution_count": 10,
   "id": "52bd519b-e9f4-4e44-92f6-eb3db5a76672",
   "metadata": {},
   "outputs": [
    {
     "name": "stdin",
     "output_type": "stream",
     "text": [
      "Enter a number:  45\n"
     ]
    },
    {
     "name": "stdout",
     "output_type": "stream",
     "text": [
      "45 is not a palindrome\n"
     ]
    }
   ],
   "source": [
    "num = int(input(\"Enter a number: \"))\n",
    "temp = num\n",
    "reverse_num = 0\n",
    "\n",
    "while(temp > 0):\n",
    "    digit = temp % 10\n",
    "    reverse_num = reverse_num * 10 + digit\n",
    "    temp = temp // 10\n",
    "\n",
    "if(num == reverse_num):\n",
    "    print(num, \"is a palindrome\")\n",
    "else:\n",
    "    print(num, \"is not a palindrome\")\n"
   ]
  },
  {
   "cell_type": "code",
   "execution_count": null,
   "id": "ad68ff86-333d-4092-8358-d968375376fc",
   "metadata": {},
   "outputs": [],
   "source": []
  }
 ],
 "metadata": {
  "kernelspec": {
   "display_name": "Python 3 (ipykernel)",
   "language": "python",
   "name": "python3"
  },
  "language_info": {
   "codemirror_mode": {
    "name": "ipython",
    "version": 3
   },
   "file_extension": ".py",
   "mimetype": "text/x-python",
   "name": "python",
   "nbconvert_exporter": "python",
   "pygments_lexer": "ipython3",
   "version": "3.10.8"
  }
 },
 "nbformat": 4,
 "nbformat_minor": 5
}
